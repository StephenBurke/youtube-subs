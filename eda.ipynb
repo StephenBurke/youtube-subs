{
 "cells": [
  {
   "cell_type": "code",
   "execution_count": 1,
   "metadata": {},
   "outputs": [],
   "source": [
    "import numpy as np\n",
    "import pandas as pd\n",
    "import matplotlib as mpl\n",
    "import matplotlib.pyplot as plt \n",
    "import seaborn as sns\n",
    "import seaborn.objects as so \n",
    "import pickle"
   ]
  },
  {
   "cell_type": "code",
   "execution_count": 15,
   "metadata": {},
   "outputs": [],
   "source": [
    "df = pd.read_csv('./youtube_subs.csv', \n",
    "index_col = 0,\n",
    "dtype = { \n",
    "    'Rank': 'int16',\n",
    "    'Youtube Channel': 'string',\n",
    "    'Subscribers': 'int32',\n",
    "    'Video Views': 'int64',\n",
    "    'Video Count': 'int32',\n",
    "    'Category': 'category',\n",
    "    'Started': 'int32'\n",
    "})\n",
    "\n",
    "df2 = df.rename({\n",
    "    'Youtube Channel': 'Youtube_Channel', \n",
    "    'Video Views': 'Video_Views',\n",
    "    'Video Count': 'Video_Count'\n",
    "    }, axis=1)"
   ]
  },
  {
   "cell_type": "code",
   "execution_count": 16,
   "metadata": {},
   "outputs": [
    {
     "data": {
      "text/html": [
       "<div>\n",
       "<style scoped>\n",
       "    .dataframe tbody tr th:only-of-type {\n",
       "        vertical-align: middle;\n",
       "    }\n",
       "\n",
       "    .dataframe tbody tr th {\n",
       "        vertical-align: top;\n",
       "    }\n",
       "\n",
       "    .dataframe thead th {\n",
       "        text-align: right;\n",
       "    }\n",
       "</style>\n",
       "<table border=\"1\" class=\"dataframe\">\n",
       "  <thead>\n",
       "    <tr style=\"text-align: right;\">\n",
       "      <th></th>\n",
       "      <th>Rank</th>\n",
       "      <th>Youtube_Channel</th>\n",
       "      <th>Subscribers</th>\n",
       "      <th>Video_Views</th>\n",
       "      <th>Video_Count</th>\n",
       "      <th>Category</th>\n",
       "      <th>Started</th>\n",
       "    </tr>\n",
       "  </thead>\n",
       "  <tbody>\n",
       "    <tr>\n",
       "      <th>0</th>\n",
       "      <td>1</td>\n",
       "      <td>T-Series</td>\n",
       "      <td>234000000</td>\n",
       "      <td>212900271553</td>\n",
       "      <td>18515</td>\n",
       "      <td>Music</td>\n",
       "      <td>2006</td>\n",
       "    </tr>\n",
       "    <tr>\n",
       "      <th>2</th>\n",
       "      <td>3</td>\n",
       "      <td>Cocomelon - Nursery Rhymes</td>\n",
       "      <td>152000000</td>\n",
       "      <td>149084178448</td>\n",
       "      <td>846</td>\n",
       "      <td>Education</td>\n",
       "      <td>2006</td>\n",
       "    </tr>\n",
       "    <tr>\n",
       "      <th>3</th>\n",
       "      <td>4</td>\n",
       "      <td>SET India</td>\n",
       "      <td>150000000</td>\n",
       "      <td>137828094104</td>\n",
       "      <td>103200</td>\n",
       "      <td>Shows</td>\n",
       "      <td>2006</td>\n",
       "    </tr>\n",
       "    <tr>\n",
       "      <th>4</th>\n",
       "      <td>5</td>\n",
       "      <td>MrBeast</td>\n",
       "      <td>128000000</td>\n",
       "      <td>21549128785</td>\n",
       "      <td>733</td>\n",
       "      <td>Entertainment</td>\n",
       "      <td>2012</td>\n",
       "    </tr>\n",
       "    <tr>\n",
       "      <th>6</th>\n",
       "      <td>7</td>\n",
       "      <td>PewDiePie</td>\n",
       "      <td>111000000</td>\n",
       "      <td>28851883250</td>\n",
       "      <td>4694</td>\n",
       "      <td>Gaming</td>\n",
       "      <td>2010</td>\n",
       "    </tr>\n",
       "  </tbody>\n",
       "</table>\n",
       "</div>"
      ],
      "text/plain": [
       "   Rank             Youtube_Channel  Subscribers   Video_Views  Video_Count  \\\n",
       "0     1                    T-Series    234000000  212900271553        18515   \n",
       "2     3  Cocomelon - Nursery Rhymes    152000000  149084178448          846   \n",
       "3     4                   SET India    150000000  137828094104       103200   \n",
       "4     5                     MrBeast    128000000   21549128785          733   \n",
       "6     7                   PewDiePie    111000000   28851883250         4694   \n",
       "\n",
       "        Category  Started  \n",
       "0          Music     2006  \n",
       "2      Education     2006  \n",
       "3          Shows     2006  \n",
       "4  Entertainment     2012  \n",
       "6         Gaming     2010  "
      ]
     },
     "execution_count": 16,
     "metadata": {},
     "output_type": "execute_result"
    }
   ],
   "source": [
    "df2 = df2[df2.Video_Views != 0]\n",
    "\n",
    "df2.head()"
   ]
  }
 ],
 "metadata": {
  "kernelspec": {
   "display_name": "college_anal",
   "language": "python",
   "name": "python3"
  },
  "language_info": {
   "codemirror_mode": {
    "name": "ipython",
    "version": 3
   },
   "file_extension": ".py",
   "mimetype": "text/x-python",
   "name": "python",
   "nbconvert_exporter": "python",
   "pygments_lexer": "ipython3",
   "version": "3.11.1"
  },
  "orig_nbformat": 4,
  "vscode": {
   "interpreter": {
    "hash": "d3cfaa9dde6695d477fee56bd1f52c32c6c8047c463749900f1033bf2e4ab266"
   }
  }
 },
 "nbformat": 4,
 "nbformat_minor": 2
}
