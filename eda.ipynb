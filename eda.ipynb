{
 "cells": [
  {
   "cell_type": "code",
   "execution_count": 2,
   "metadata": {},
   "outputs": [],
   "source": [
    "import numpy as np\n",
    "import pandas as pd\n",
    "import matplotlib as mpl\n",
    "import matplotlib.pyplot as plt \n",
    "import seaborn as sns\n",
    "import seaborn.objects as so \n",
    "import pickle"
   ]
  },
  {
   "cell_type": "code",
   "execution_count": 3,
   "metadata": {},
   "outputs": [],
   "source": [
    "df = pd.read_csv('./youtube_subs.csv', \n",
    "index_col = 0,\n",
    "dtype = { \n",
    "    'Rank': 'int16',\n",
    "    'Youtube Channel': 'string',\n",
    "    'Subscribers': 'int32',\n",
    "    'Video Views': 'int64',\n",
    "    'Video Count': 'int32',\n",
    "    'Category': 'category',\n",
    "    'Started': 'int32'\n",
    "})\n",
    "\n",
    "df = df.rename({\n",
    "    'Youtube Channel': 'Youtube_Channel', \n",
    "    'Video Views': 'Video_Views',\n",
    "    'Video Count': 'Video_Count'\n",
    "    }, axis=1)\n",
    "\n",
    "df = df[df.Video_Views != 0]\n",
    "df['Rank'] = df['Subscribers'].rank(ascending = False)\n",
    "df['Rank'] = df['Rank'].astype(int)\n",
    "\n",
    "df.to_pickle('./youtube_subs.pkl')\n",
    "df2 = pd.read_pickle('./youtube_subs.pkl')"
   ]
  }
 ],
 "metadata": {
  "kernelspec": {
   "display_name": "college_anal",
   "language": "python",
   "name": "python3"
  },
  "language_info": {
   "codemirror_mode": {
    "name": "ipython",
    "version": 3
   },
   "file_extension": ".py",
   "mimetype": "text/x-python",
   "name": "python",
   "nbconvert_exporter": "python",
   "pygments_lexer": "ipython3",
   "version": "3.11.1"
  },
  "orig_nbformat": 4,
  "vscode": {
   "interpreter": {
    "hash": "d3cfaa9dde6695d477fee56bd1f52c32c6c8047c463749900f1033bf2e4ab266"
   }
  }
 },
 "nbformat": 4,
 "nbformat_minor": 2
}
